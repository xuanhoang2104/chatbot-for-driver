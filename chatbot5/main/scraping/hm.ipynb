{
 "cells": [
  {
   "cell_type": "code",
   "execution_count": null,
   "metadata": {},
   "outputs": [],
   "source": [
    "import requests\n",
    "from bs4 import BeautifulSoup\n",
    "\n",
    "# URL trang chủ của H&M Men\n",
    "base_url = 'https://www2.hm.com'\n",
    "category_url = 'https://www2.hm.com/en_us/men.html'\n",
    "\n",
    "# Gửi yêu cầu đến trang\n",
    "response = requests.get(category_url)\n",
    "soup = BeautifulSoup(response.text, 'html.parser')\n",
    "\n",
    "# Tìm tất cả các categories liên quan đến sản phẩm Men\n",
    "categories = soup.find_all('a', class_='menu__super-link')\n",
    "\n",
    "# Duyệt qua từng category và crawl sản phẩm trong đó\n",
    "for category in categories:\n",
    "    category_name = category.text.strip()\n",
    "    category_link = base_url + category['href']\n",
    "    \n",
    "    print(f\"Crawling category: {category_name}\")\n",
    "    print(f\"URL: {category_link}\")\n",
    "    \n",
    "    # Gửi yêu cầu đến trang danh mục để lấy sản phẩm\n",
    "    category_response = requests.get(category_link)\n",
    "    category_soup = BeautifulSoup(category_response.text, 'html.parser')\n",
    "    \n",
    "    # Lấy danh sách sản phẩm trong danh mục\n",
    "    products = category_soup.find_all('article', class_='hm-product-item')\n",
    "    \n",
    "    # Duyệt qua từng sản phẩm trong danh mục\n",
    "    for product in products:\n",
    "        product_name = product.find('a', class_='link').text.strip()\n",
    "        product_price = product.find('span', class_='price regular').text.strip()\n",
    "        image_url = product.find('img', class_='item-image')['src']\n",
    "        \n",
    "        print(f'Product Name: {product_name}')\n",
    "        print(f'Price: {product_price}')\n",
    "        print(f'Image URL: {image_url}')\n",
    "        print('-' * 40)"
   ]
  },
  {
   "cell_type": "code",
   "execution_count": null,
   "metadata": {},
   "outputs": [],
   "source": []
  }
 ],
 "metadata": {
  "kernelspec": {
   "display_name": "CHATBOT",
   "language": "python",
   "name": "python3"
  },
  "language_info": {
   "name": "python",
   "version": "3.12.5"
  }
 },
 "nbformat": 4,
 "nbformat_minor": 2
}
